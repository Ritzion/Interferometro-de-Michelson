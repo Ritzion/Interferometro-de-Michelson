{
 "metadata": {
  "name": "",
  "signature": "sha256:0675592376df7e905b598d607e1ee30c84411dcf08a2e59cefae97faea2d4372"
 },
 "nbformat": 3,
 "nbformat_minor": 0,
 "worksheets": [
  {
   "cells": [
    {
     "cell_type": "code",
     "collapsed": false,
     "input": [
      "%pylab inline"
     ],
     "language": "python",
     "metadata": {},
     "outputs": [
      {
       "output_type": "stream",
       "stream": "stdout",
       "text": [
        "Populating the interactive namespace from numpy and matplotlib\n"
       ]
      }
     ],
     "prompt_number": 1
    },
    {
     "cell_type": "markdown",
     "metadata": {},
     "source": [
      "Factor de reduccion"
     ]
    },
    {
     "cell_type": "code",
     "collapsed": false,
     "input": [
      "deltam = 100.\n",
      "lambd = 0.6328e-6\n",
      "factor = []\n",
      "\n",
      "def g(deltax):\n",
      "    return deltam*lambd/(2.*deltax)\n",
      "\n",
      "deltax = array([0.16,0.16,0.16,0.16,0.17,0.17,0.16,0.16,0.16])*10**-3\n",
      "\n",
      "for x in deltax:\n",
      "    g(deltax)\n",
      "    factor.append(g(x))"
     ],
     "language": "python",
     "metadata": {},
     "outputs": [],
     "prompt_number": 2
    },
    {
     "cell_type": "code",
     "collapsed": false,
     "input": [
      "factor"
     ],
     "language": "python",
     "metadata": {},
     "outputs": [
      {
       "metadata": {},
       "output_type": "pyout",
       "prompt_number": 3,
       "text": [
        "[0.19775000000000001,\n",
        " 0.19775000000000001,\n",
        " 0.19775000000000001,\n",
        " 0.19775000000000001,\n",
        " 0.18611764705882353,\n",
        " 0.18611764705882353,\n",
        " 0.19775000000000001,\n",
        " 0.19775000000000001,\n",
        " 0.19775000000000001]"
       ]
      }
     ],
     "prompt_number": 3
    },
    {
     "cell_type": "code",
     "collapsed": false,
     "input": [
      "mean(factor)"
     ],
     "language": "python",
     "metadata": {},
     "outputs": [
      {
       "metadata": {},
       "output_type": "pyout",
       "prompt_number": 4,
       "text": [
        "0.19516503267973861"
       ]
      }
     ],
     "prompt_number": 4
    },
    {
     "cell_type": "markdown",
     "metadata": {},
     "source": [
      "Error en el factor de reduccion"
     ]
    },
    {
     "cell_type": "code",
     "collapsed": false,
     "input": [
      "errdeltax = 0.02e-3\n",
      "errfactor = []\n",
      "\n",
      "def errf(deltax):\n",
      "    return deltam*lambd*errdeltax/(2.*deltax**2)\n",
      "\n",
      "for x in deltax:\n",
      "    errf(deltax)\n",
      "errfactor.append(errf(deltax))"
     ],
     "language": "python",
     "metadata": {},
     "outputs": [],
     "prompt_number": 5
    },
    {
     "cell_type": "code",
     "collapsed": false,
     "input": [
      "errfactor"
     ],
     "language": "python",
     "metadata": {},
     "outputs": [
      {
       "metadata": {},
       "output_type": "pyout",
       "prompt_number": 6,
       "text": [
        "[array([ 0.02471875,  0.02471875,  0.02471875,  0.02471875,  0.02189619,\n",
        "         0.02189619,  0.02471875,  0.02471875,  0.02471875])]"
       ]
      }
     ],
     "prompt_number": 6
    },
    {
     "cell_type": "code",
     "collapsed": false,
     "input": [
      "mean(errfactor)"
     ],
     "language": "python",
     "metadata": {},
     "outputs": [
      {
       "metadata": {},
       "output_type": "pyout",
       "prompt_number": 7,
       "text": [
        "0.024091515282583624"
       ]
      }
     ],
     "prompt_number": 7
    },
    {
     "cell_type": "markdown",
     "metadata": {},
     "source": [
      "Calculo del incremento de lambda"
     ]
    },
    {
     "cell_type": "code",
     "collapsed": false,
     "input": [
      "x1=[0.05,1.75,3.18,4.77,6.28,7.73,9.30,10.82,12.36,13.91,15.42,16.94,18.51,20.21] #en mm\n",
      "x2=[0.05,1.51,3.12,4.69,6.05,7.80,9.27,10.85,12.34,13.83,15.39,16.91,18.50,20.12] #en mm\n",
      "x3=[0.05,1.58,3.13,4.64,6.19,7.72,9.22,10.53,12.71,13.39,15.12,16.90,18.75,20.11] #en mm\n",
      "lambd1 = 0.588995e-6\n",
      "\n",
      "n=0\n",
      "incrementos1 = []\n",
      "def dl1(i):\n",
      "        return x1[i+1]-x1[i]\n",
      "while n<=len(x1):\n",
      "    try:\n",
      "        incrementos1.append(dl1(n))\n",
      "        n=n+1\n",
      "    \n",
      "    except:\n",
      "       break\n",
      "n=0\n",
      "incrementos2 = []\n",
      "def dl2(i):\n",
      "        return x2[i+1]-x2[i]\n",
      "while n<=len(x2):\n",
      "    try:\n",
      "        incrementos2.append(dl2(n))\n",
      "        n=n+1\n",
      "    \n",
      "    except:\n",
      "       break\n",
      "n=0\n",
      "incrementos3 = []\n",
      "def dl3(i):\n",
      "        return x3[i+1]-x3[i]\n",
      "while n<=len(x3):\n",
      "    try:\n",
      "        incrementos3.append(dl3(n))\n",
      "        n=n+1\n",
      "    \n",
      "    except:\n",
      "       break\n",
      "\n"
     ],
     "language": "python",
     "metadata": {},
     "outputs": [],
     "prompt_number": 8
    },
    {
     "cell_type": "code",
     "collapsed": false,
     "input": [
      "incrementos1"
     ],
     "language": "python",
     "metadata": {},
     "outputs": [
      {
       "metadata": {},
       "output_type": "pyout",
       "prompt_number": 9,
       "text": [
        "[1.7,\n",
        " 1.4300000000000002,\n",
        " 1.5899999999999994,\n",
        " 1.5100000000000007,\n",
        " 1.4500000000000002,\n",
        " 1.5700000000000003,\n",
        " 1.5199999999999996,\n",
        " 1.5399999999999991,\n",
        " 1.5500000000000007,\n",
        " 1.5099999999999998,\n",
        " 1.5200000000000014,\n",
        " 1.5700000000000003,\n",
        " 1.6999999999999993]"
       ]
      }
     ],
     "prompt_number": 9
    },
    {
     "cell_type": "code",
     "collapsed": false,
     "input": [
      "incrementos2"
     ],
     "language": "python",
     "metadata": {},
     "outputs": [
      {
       "metadata": {},
       "output_type": "pyout",
       "prompt_number": 10,
       "text": [
        "[1.46,\n",
        " 1.61,\n",
        " 1.5700000000000003,\n",
        " 1.3599999999999994,\n",
        " 1.75,\n",
        " 1.4699999999999998,\n",
        " 1.58,\n",
        " 1.4900000000000002,\n",
        " 1.4900000000000002,\n",
        " 1.5600000000000005,\n",
        " 1.5199999999999996,\n",
        " 1.5899999999999999,\n",
        " 1.620000000000001]"
       ]
      }
     ],
     "prompt_number": 10
    },
    {
     "cell_type": "code",
     "collapsed": false,
     "input": [
      "incrementos3"
     ],
     "language": "python",
     "metadata": {},
     "outputs": [
      {
       "metadata": {},
       "output_type": "pyout",
       "prompt_number": 11,
       "text": [
        "[1.53,\n",
        " 1.5499999999999998,\n",
        " 1.5099999999999998,\n",
        " 1.5500000000000007,\n",
        " 1.5299999999999994,\n",
        " 1.5000000000000009,\n",
        " 1.3099999999999987,\n",
        " 2.1800000000000015,\n",
        " 0.6799999999999997,\n",
        " 1.7299999999999986,\n",
        " 1.7799999999999994,\n",
        " 1.8500000000000014,\n",
        " 1.3599999999999994]"
       ]
      }
     ],
     "prompt_number": 11
    },
    {
     "cell_type": "code",
     "collapsed": false,
     "input": [
      "landas = []\n",
      "def inclamb(incrementos1):\n",
      "    return lambd1**2/(2*incrementos1*mean(factor)*10**-3)\n",
      "for i in incrementos1:\n",
      "    landas.append(inclamb(i))\n",
      "    \n",
      "def inclamb(incrementos2):\n",
      "    return lambd1**2/(2*incrementos2*mean(factor)*10**-3)\n",
      "for i in incrementos2:\n",
      "    landas.append(inclamb(i))\n",
      "    \n",
      "def inclamb(incrementos3):\n",
      "    return lambd1**2/(2*incrementos3*mean(factor)*10**-3)\n",
      "for i in incrementos3:\n",
      "    landas.append(inclamb(i))"
     ],
     "language": "python",
     "metadata": {},
     "outputs": [],
     "prompt_number": 12
    },
    {
     "cell_type": "code",
     "collapsed": false,
     "input": [
      "landas"
     ],
     "language": "python",
     "metadata": {},
     "outputs": [
      {
       "metadata": {},
       "output_type": "pyout",
       "prompt_number": 13,
       "text": [
        "[5.2280807934042728e-10,\n",
        " 6.2152009432078747e-10,\n",
        " 5.5897719174762683e-10,\n",
        " 5.8859187740312978e-10,\n",
        " 6.1294740336463886e-10,\n",
        " 5.6609792030492109e-10,\n",
        " 5.847195624202149e-10,\n",
        " 5.7712580186930324e-10,\n",
        " 5.7340240959917794e-10,\n",
        " 5.8859187740313009e-10,\n",
        " 5.8471956242021428e-10,\n",
        " 5.6609792030492109e-10,\n",
        " 5.2280807934042738e-10,\n",
        " 6.0874913347857979e-10,\n",
        " 5.5203337570107222e-10,\n",
        " 5.6609792030492109e-10,\n",
        " 6.5351009917553428e-10,\n",
        " 5.078707056449865e-10,\n",
        " 6.0460798291069817e-10,\n",
        " 5.6251502207514323e-10,\n",
        " 5.9649243951592355e-10,\n",
        " 5.9649243951592355e-10,\n",
        " 5.6972675312738849e-10,\n",
        " 5.847195624202149e-10,\n",
        " 5.5897719174762673e-10,\n",
        " 5.4862576227081833e-10,\n",
        " 5.8089786593380805e-10,\n",
        " 5.7340240959917825e-10,\n",
        " 5.8859187740313009e-10,\n",
        " 5.7340240959917794e-10,\n",
        " 5.8089786593380836e-10,\n",
        " 5.9251582325248392e-10,\n",
        " 6.7845323273185288e-10,\n",
        " 4.076943737975806e-10,\n",
        " 1.3070201983510686e-09,\n",
        " 5.1374204328250115e-10,\n",
        " 4.9931108701052057e-10,\n",
        " 4.8041823506958138e-10,\n",
        " 6.5351009917553428e-10]"
       ]
      }
     ],
     "prompt_number": 13
    },
    {
     "cell_type": "code",
     "collapsed": false,
     "input": [
      "mean(landas)"
     ],
     "language": "python",
     "metadata": {},
     "outputs": [
      {
       "metadata": {},
       "output_type": "pyout",
       "prompt_number": 14,
       "text": [
        "5.899662484325121e-10"
       ]
      }
     ],
     "prompt_number": 14
    },
    {
     "cell_type": "markdown",
     "metadata": {},
     "source": [
      "Desviacion estandar"
     ]
    },
    {
     "cell_type": "code",
     "collapsed": false,
     "input": [
      "std(landas)"
     ],
     "language": "python",
     "metadata": {},
     "outputs": [
      {
       "metadata": {},
       "output_type": "pyout",
       "prompt_number": 15,
       "text": [
        "1.2572340042140885e-10"
       ]
      }
     ],
     "prompt_number": 15
    },
    {
     "cell_type": "markdown",
     "metadata": {},
     "source": [
      "Error en incremento de lambda"
     ]
    },
    {
     "cell_type": "code",
     "collapsed": false,
     "input": [
      "errlambda = []\n",
      "\n",
      "def errdeltalambda(incrementos1):\n",
      "    return errdeltax*lambd1**2/(2*(incrementos1*mean(factor)*10**-3)**2)    \n",
      "for i in incrementos1:\n",
      "    errlambda.append(errdeltalambda(i))\n",
      "    \n",
      "def errdeltalambda(incrementos2):\n",
      "    return errdeltax*lambd1**2/(2*(incrementos2*mean(factor)*10**-3)**2)\n",
      "for i in incrementos2:\n",
      "    errlambda.append(errdeltalambda(i))\n",
      "\n",
      "def errdeltalambda(incrementos3):\n",
      "    return errdeltax*lambd1**2/(2*(incrementos3*mean(factor)*10**-3)**2)  \n",
      "for i in incrementos3:\n",
      "    errlambda.append(errdeltalambda(i))"
     ],
     "language": "python",
     "metadata": {},
     "outputs": [],
     "prompt_number": 16
    },
    {
     "cell_type": "code",
     "collapsed": false,
     "input": [
      "errlambda"
     ],
     "language": "python",
     "metadata": {},
     "outputs": [
      {
       "metadata": {},
       "output_type": "pyout",
       "prompt_number": 18,
       "text": [
        "[3.1515293502658848e-11,\n",
        " 4.4539683222985986e-11,\n",
        " 3.6026738745573411e-11,\n",
        " 3.9945264779037765e-11,\n",
        " 4.3319475967982908e-11,\n",
        " 3.6950463800837367e-11,\n",
        " 3.9421398122699161e-11,\n",
        " 3.8404114615737985e-11,\n",
        " 3.7910176159285731e-11,\n",
        " 3.9945264779037804e-11,\n",
        " 3.9421398122699071e-11,\n",
        " 3.6950463800837367e-11,\n",
        " 3.1515293502658867e-11,\n",
        " 4.2728090740609919e-11,\n",
        " 3.5137223958444534e-11,\n",
        " 3.6950463800837367e-11,\n",
        " 4.9242646097904495e-11,\n",
        " 2.9740146358427459e-11,\n",
        " 4.214873350117269e-11,\n",
        " 3.6484216560921355e-11,\n",
        " 4.1024817901303562e-11,\n",
        " 4.1024817901303562e-11,\n",
        " 3.7425706041536819e-11,\n",
        " 3.9421398122699161e-11,\n",
        " 3.6026738745573392e-11,\n",
        " 3.4704769937008052e-11,\n",
        " 3.8907769756368946e-11,\n",
        " 3.7910176159285776e-11,\n",
        " 3.9945264779037804e-11,\n",
        " 3.7910176159285731e-11,\n",
        " 3.8907769756368992e-11,\n",
        " 4.0479643654526208e-11,\n",
        " 5.3073362987404153e-11,\n",
        " 1.9164884736698078e-11,\n",
        " 1.9697058439161798e-10,\n",
        " 3.0431754560020115e-11,\n",
        " 2.8746117353454145e-11,\n",
        " 2.6611891372588439e-11,\n",
        " 4.9242646097904495e-11]"
       ]
      }
     ],
     "prompt_number": 18
    },
    {
     "cell_type": "code",
     "collapsed": false,
     "input": [
      "mean(errlambda)"
     ],
     "language": "python",
     "metadata": {},
     "outputs": [
      {
       "metadata": {},
       "output_type": "pyout",
       "prompt_number": 19,
       "text": [
        "4.1954534373188086e-11"
       ]
      }
     ],
     "prompt_number": 19
    }
   ],
   "metadata": {}
  }
 ]
}